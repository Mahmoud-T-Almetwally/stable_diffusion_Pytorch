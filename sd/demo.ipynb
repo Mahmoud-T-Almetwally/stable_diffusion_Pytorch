{
 "cells": [
  {
   "cell_type": "code",
   "execution_count": null,
   "metadata": {},
   "outputs": [],
   "source": [
    "import pipeline\n",
    "import model_loader\n",
    "from transformers import CLIPTokenizer\n",
    "from PIL import Image\n",
    "import torch\n",
    "\n",
    "DEVICE = 'cuda' if torch.cuda.is_available() else 'cpu'"
   ]
  },
  {
   "cell_type": "code",
   "execution_count": null,
   "metadata": {},
   "outputs": [],
   "source": [
    "tokenizer = CLIPTokenizer('../data/tokenizer_vocab.json', merges_file='../data/tokenizer_merges.txt')\n",
    "model_file = '../data/v1-5-pruned-emaonly.ckpt'\n",
    "models = model_loader.preload_models_from_standard_weights(model_file, DEVICE)\n",
    "\n",
    "prompt = 'A steak, highly detailed, ultra sharp, cinematic, 8K resolution'\n",
    "uncond_prompt = ''\n",
    "do_cfg = True\n",
    "cfg_scale = 7\n",
    "seed = 42\n",
    "\n",
    "input_image = None\n",
    "image_path = '../images/img.png'\n",
    "# image = Image.open(image_path)\n",
    "strength = 0.9\n",
    "\n",
    "sampler = 'ddpm'\n",
    "num_inference_steps = 50\n",
    "\n",
    "output_image = pipeline.generate(\n",
    "    prompt,\n",
    "    uncond_prompt,\n",
    "    input_image,\n",
    "    strength,\n",
    "    do_cfg,\n",
    "    cfg_scale,\n",
    "    sampler,\n",
    "    num_inference_steps,\n",
    "    models,\n",
    "    seed,\n",
    "    DEVICE,\n",
    "    idle_device='cpu',\n",
    "    tokenizer=tokenizer\n",
    ")\n",
    "\n",
    "Image.fromarray(output_image)"
   ]
  }
 ],
 "metadata": {
  "kernelspec": {
   "display_name": "Python 3",
   "language": "python",
   "name": "python3"
  },
  "language_info": {
   "codemirror_mode": {
    "name": "ipython",
    "version": 3
   },
   "file_extension": ".py",
   "mimetype": "text/x-python",
   "name": "python",
   "nbconvert_exporter": "python",
   "pygments_lexer": "ipython3",
   "version": "3.11.4"
  }
 },
 "nbformat": 4,
 "nbformat_minor": 2
}
